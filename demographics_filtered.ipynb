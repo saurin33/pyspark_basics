{
  "nbformat": 4,
  "nbformat_minor": 0,
  "metadata": {
    "colab": {
      "name": "demographics_filtered.ipynb",
      "provenance": [],
      "collapsed_sections": [],
      "include_colab_link": true
    },
    "kernelspec": {
      "display_name": "Python 3",
      "language": "python",
      "name": "python3"
    },
    "language_info": {
      "codemirror_mode": {
        "name": "ipython",
        "version": 3
      },
      "file_extension": ".py",
      "mimetype": "text/x-python",
      "name": "python",
      "nbconvert_exporter": "python",
      "pygments_lexer": "ipython3",
      "version": "3.7.4"
    },
    "latex_envs": {
      "LaTeX_envs_menu_present": true,
      "autoclose": false,
      "autocomplete": true,
      "bibliofile": "biblio.bib",
      "cite_by": "apalike",
      "current_citInitial": 1,
      "eqLabelWithNumbers": true,
      "eqNumInitial": 1,
      "hotkeys": {
        "equation": "Ctrl-E",
        "itemize": "Ctrl-I"
      },
      "labels_anchors": false,
      "latex_user_defs": false,
      "report_style_numbering": false,
      "user_envs_cfg": false
    }
  },
  "cells": [
    {
      "cell_type": "markdown",
      "metadata": {
        "id": "view-in-github",
        "colab_type": "text"
      },
      "source": [
        "<a href=\"https://colab.research.google.com/github/saurin33/pyspark_basics/blob/master/demographics_filtered.ipynb\" target=\"_parent\"><img src=\"https://colab.research.google.com/assets/colab-badge.svg\" alt=\"Open In Colab\"/></a>"
      ]
    },
    {
      "cell_type": "code",
      "metadata": {
        "colab_type": "code",
        "id": "nkEwFQ26c4g8",
        "colab": {}
      },
      "source": [
        "# Install Java, Spark, and Findspark\n",
        "!apt-get install openjdk-8-jdk-headless -qq > /dev/null\n",
        "!wget -q http://www-us.apache.org/dist/spark/spark-2.4.5/spark-2.4.5-bin-hadoop2.7.tgz\n",
        "!tar xf spark-2.4.5-bin-hadoop2.7.tgz\n",
        "!pip install -q findspark\n",
        "\n",
        "# Set Environment Variables\n",
        "import os\n",
        "os.environ[\"JAVA_HOME\"] = \"/usr/lib/jvm/java-8-openjdk-amd64\"\n",
        "os.environ[\"SPARK_HOME\"] = \"/content/spark-2.4.5-bin-hadoop2.7\"\n",
        "\n",
        "# Start a SparkSession\n",
        "import findspark\n",
        "findspark.init()"
      ],
      "execution_count": 0,
      "outputs": []
    },
    {
      "cell_type": "code",
      "metadata": {
        "id": "gree49zcZA_g",
        "colab_type": "code",
        "colab": {}
      },
      "source": [
        "# Start spark session\n",
        "from pyspark.sql import SparkSession\n",
        "spark = SparkSession.builder.appName(\"demographicsFIlter\").getOrCreate()"
      ],
      "execution_count": 0,
      "outputs": []
    },
    {
      "cell_type": "code",
      "metadata": {
        "id": "ieN08gvoZhCS",
        "colab_type": "code",
        "colab": {}
      },
      "source": [
        "#  Read the data from S3 bucket\n",
        "from pyspark import SparkFiles\n",
        "url = \"https://s3.amazonaws.com/dataviz-curriculum/day_1/demographics.csv\"\n",
        "spark.sparkContext.addFile(url)"
      ],
      "execution_count": 0,
      "outputs": []
    },
    {
      "cell_type": "code",
      "metadata": {
        "id": "wCiLOCnIZ2W_",
        "colab_type": "code",
        "colab": {
          "base_uri": "https://localhost:8080/",
          "height": 459
        },
        "outputId": "ce32f297-0868-4622-add5-6a7d06699183"
      },
      "source": [
        "df = spark.read.option('header', 'true').csv(SparkFiles.get(\"demographics.csv\"), inferSchema=True, sep=',')\n",
        "df.show()"
      ],
      "execution_count": 5,
      "outputs": [
        {
          "output_type": "stream",
          "text": [
            "+---+--------------------+---+------------+---------+--------+------------------+---------------+------+-------------+\n",
            "| id|                name|age|height_meter|weight_kg|children|        occupation|academic_degree|salary|     location|\n",
            "+---+--------------------+---+------------+---------+--------+------------------+---------------+------+-------------+\n",
            "|  0|       Darlena Avila| 58|        1.87|       53|       1|     Choreographer|            PhD|    68| South Dakota|\n",
            "|  1|            Yan Boyd| 65|         1.8|       40|       0|         Cellarman|       Bachelor|    73|     Delaware|\n",
            "|  2|         Joette Lane| 32|         1.8|       73|       1|Veterinary Surgeon|         Master|    69| South Dakota|\n",
            "|  3|        Jazmine Hunt| 61|        1.79|       89|       0|            Hawker|            PhD|    88|    Louisiana|\n",
            "|  4|      Remedios Gomez| 23|        1.64|       51|       2|     Choreographer|       Bachelor|    83|West Virginia|\n",
            "|  5|        Myung Brewer| 20|        1.68|       60|       4|    Window Dresser|       Bachelor|    65| South Dakota|\n",
            "|  6|         Shaun Lynch| 31|        1.56|       62|       0|            Weaver|         Master|    72|    Louisiana|\n",
            "|  7|     Melodi Mcdowell| 56|         1.6|       42|       0| Lighthouse Keeper|         Master|    65|    Louisiana|\n",
            "|  8|Charlesetta Steve...| 30|        1.62|       44|       3|        Millwright|         Master|    87|    Louisiana|\n",
            "|  9|       Merri Charles| 44|        1.69|       51|       5|  Medical Supplier|            PhD|    72|West Virginia|\n",
            "| 10|        Cassi Meyers| 55|        1.82|       72|       5|        Manicurist|       Bachelor|    73| South Dakota|\n",
            "| 11|      Shawnee Harmon| 66|        1.63|       78|       5| Medical Physicist|            PhD|    90|     Delaware|\n",
            "| 12|       Lyndia Spears| 62|        1.88|       41|       1|         Assistant|         Master|    78|       Alaska|\n",
            "| 13|          Page Evans| 35|        1.53|       74|       5|         Paramedic|       Bachelor|    69|     Delaware|\n",
            "| 14|        Telma Hebert| 66|        1.94|       79|       3|       Genealogist|         Master|    75| South Dakota|\n",
            "| 15|      Edelmira Drake| 23|        1.87|       72|       2|           Servant|            PhD|    77| South Dakota|\n",
            "| 16|       Oscar Guthrie| 40|        1.61|       46|       4| Technical Liaison|       Bachelor|    76|    Louisiana|\n",
            "| 17|   Bernardina Strong| 34|        1.55|       78|       1|         Scientist|            PhD|    90| South Dakota|\n",
            "| 18|        Caprice Hart| 64|        1.69|       67|       4|   Market Research|            PhD|    79|    Louisiana|\n",
            "| 19|         Alleen Pace| 25|        1.86|       81|       4|  Medical Supplier|            PhD|    77| South Dakota|\n",
            "+---+--------------------+---+------------+---------+--------+------------------+---------------+------+-------------+\n",
            "only showing top 20 rows\n",
            "\n"
          ],
          "name": "stdout"
        }
      ]
    },
    {
      "cell_type": "code",
      "metadata": {
        "id": "0AisrylMZ2Zn",
        "colab_type": "code",
        "colab": {}
      },
      "source": [
        ""
      ],
      "execution_count": 0,
      "outputs": []
    },
    {
      "cell_type": "code",
      "metadata": {
        "colab_type": "code",
        "id": "4mkTOp6jc-Ke",
        "colab": {
          "base_uri": "https://localhost:8080/",
          "height": 136
        },
        "outputId": "41bd0c70-f84d-4a27-f4ab-a89ca8eb3a18"
      },
      "source": [
        "# What occupation had the highest salary?\n",
        "from pyspark.sql.functions import max, min, mean, avg\n",
        "df.groupBy('occupation').agg(max('salary')).show(1)"
      ],
      "execution_count": 48,
      "outputs": [
        {
          "output_type": "stream",
          "text": [
            "+----------+-----------+\n",
            "|occupation|max(salary)|\n",
            "+----------+-----------+\n",
            "| Scientist|         90|\n",
            "+----------+-----------+\n",
            "only showing top 1 row\n",
            "\n"
          ],
          "name": "stdout"
        }
      ]
    },
    {
      "cell_type": "code",
      "metadata": {
        "colab_type": "code",
        "id": "yEdZk7lXdJG2",
        "colab": {
          "base_uri": "https://localhost:8080/",
          "height": 136
        },
        "outputId": "cb91f06a-6bdd-4e56-b0e1-42c5fb06ee3e"
      },
      "source": [
        "# What occupation had the lowest salary?\n",
        "from pyspark.sql.functions import min\n",
        "df.groupBy('occupation').min('salary').orderBy(['min(salary)']).show(1)\n"
      ],
      "execution_count": 43,
      "outputs": [
        {
          "output_type": "stream",
          "text": [
            "+-------------------+-----------+\n",
            "|         occupation|min(salary)|\n",
            "+-------------------+-----------+\n",
            "|Gaming Club Manager|         65|\n",
            "+-------------------+-----------+\n",
            "only showing top 1 row\n",
            "\n"
          ],
          "name": "stdout"
        }
      ]
    },
    {
      "cell_type": "code",
      "metadata": {
        "colab_type": "code",
        "id": "31aj7ATsdKVV",
        "colab": {
          "base_uri": "https://localhost:8080/",
          "height": 119
        },
        "outputId": "72e03b01-2f61-4fc1-ff3d-73bae27dd1c8"
      },
      "source": [
        "# What is the mean salary of this dataset?\n",
        "df.select(mean('salary')).show()"
      ],
      "execution_count": 36,
      "outputs": [
        {
          "output_type": "stream",
          "text": [
            "+-----------+\n",
            "|avg(salary)|\n",
            "+-----------+\n",
            "|     77.738|\n",
            "+-----------+\n",
            "\n"
          ],
          "name": "stdout"
        }
      ]
    },
    {
      "cell_type": "code",
      "metadata": {
        "colab_type": "code",
        "id": "9vn-QUW1dOAl",
        "colab": {
          "base_uri": "https://localhost:8080/",
          "height": 119
        },
        "outputId": "bdc358ed-81ea-4bb0-c774-02a0e99a5b2f"
      },
      "source": [
        "# What is the max and min of the Salary column?\n",
        "df.agg(max('salary'), min('salary')).show()"
      ],
      "execution_count": 53,
      "outputs": [
        {
          "output_type": "stream",
          "text": [
            "+-----------+-----------+\n",
            "|max(salary)|min(salary)|\n",
            "+-----------+-----------+\n",
            "|         90|         65|\n",
            "+-----------+-----------+\n",
            "\n"
          ],
          "name": "stdout"
        }
      ]
    },
    {
      "cell_type": "code",
      "metadata": {
        "colab_type": "code",
        "id": "zbF-4FWkdQJm",
        "colab": {
          "base_uri": "https://localhost:8080/",
          "height": 459
        },
        "outputId": "2506f2ca-a4fa-4117-9ea3-c6b730842bcc"
      },
      "source": [
        "# Show all of the occupations where salaries were above 80k\n",
        "df.filter(df['salary']>80).show()"
      ],
      "execution_count": 46,
      "outputs": [
        {
          "output_type": "stream",
          "text": [
            "+---+--------------------+---+------------+---------+--------+--------------------+---------------+------+-------------+\n",
            "| id|                name|age|height_meter|weight_kg|children|          occupation|academic_degree|salary|     location|\n",
            "+---+--------------------+---+------------+---------+--------+--------------------+---------------+------+-------------+\n",
            "|  3|        Jazmine Hunt| 61|        1.79|       89|       0|              Hawker|            PhD|    88|    Louisiana|\n",
            "|  4|      Remedios Gomez| 23|        1.64|       51|       2|       Choreographer|       Bachelor|    83|West Virginia|\n",
            "|  8|Charlesetta Steve...| 30|        1.62|       44|       3|          Millwright|         Master|    87|    Louisiana|\n",
            "| 11|      Shawnee Harmon| 66|        1.63|       78|       5|   Medical Physicist|            PhD|    90|     Delaware|\n",
            "| 17|   Bernardina Strong| 34|        1.55|       78|       1|           Scientist|            PhD|    90| South Dakota|\n",
            "| 21|      Kemberly Yates| 41|        1.75|       49|       4|     Claims Adjustor|            PhD|    83|     Delaware|\n",
            "| 29|          Tran Hurst| 56|        1.56|       52|       0| Planning Technician|       Bachelor|    85|     Delaware|\n",
            "| 30|     Zenobia Delgado| 52|        1.79|       38|       0|       Booking Clerk|       Bachelor|    88|     Delaware|\n",
            "| 32|          Laine Odom| 35|        1.74|       72|       1|      Sub-Postmaster|       Bachelor|    85|    Louisiana|\n",
            "| 33|     Shonna Schwartz| 32|         1.7|       44|       0|        Shelf Filler|         Master|    86|       Alaska|\n",
            "| 34|         Renda Hicks| 67|        1.73|       84|       0|             Chemist|       Bachelor|    89| South Dakota|\n",
            "| 37|    Celestina Hudson| 31|         1.9|       73|       0|        Betting Shop|            PhD|    83|       Alaska|\n",
            "| 38|        Willena Snow| 31|        1.51|       43|       1|     Hire Car Driver|         Master|    85|West Virginia|\n",
            "| 39|        Sunday Kelly| 43|        1.61|       63|       0|    Heating Engineer|         Master|    85|West Virginia|\n",
            "| 41|         Susy Castro| 33|        1.59|       51|       0|    Vehicle Assessor|       Bachelor|    88|    Louisiana|\n",
            "| 43|        Britta Wolfe| 45|        1.75|       49|       0|   Building Surveyor|            PhD|    83|West Virginia|\n",
            "| 47|       Leisha Jacobs| 27|        1.66|       86|       0|Advertising Contr...|         Master|    85|     Delaware|\n",
            "| 51|        Zofia Franco| 34|        1.97|       44|       1|   Medical Physicist|       Bachelor|    82| South Dakota|\n",
            "| 52|          Dani Reyes| 61|        1.78|       55|       2|            Labourer|            PhD|    88| South Dakota|\n",
            "| 53|         Margy Craig| 61|        1.84|       54|       4|   Technical Analyst|         Master|    82|       Alaska|\n",
            "+---+--------------------+---+------------+---------+--------+--------------------+---------------+------+-------------+\n",
            "only showing top 20 rows\n",
            "\n"
          ],
          "name": "stdout"
        }
      ]
    },
    {
      "cell_type": "code",
      "metadata": {
        "colab_type": "code",
        "id": "gKTOoej7dRpG",
        "colab": {
          "base_uri": "https://localhost:8080/",
          "height": 153
        },
        "outputId": "329402d4-eccb-4b25-e84a-72d7aad6315d"
      },
      "source": [
        "# BONUS\n",
        "# What is the average age and height for each academic degree type?\n",
        "# HINT: You will need to use `groupby` to solve this\n",
        "df.groupby('academic_degree').agg(avg('height_meter'), avg('age')).show()"
      ],
      "execution_count": 49,
      "outputs": [
        {
          "output_type": "stream",
          "text": [
            "+---------------+------------------+------------------+\n",
            "|academic_degree| avg(height_meter)|          avg(age)|\n",
            "+---------------+------------------+------------------+\n",
            "|            PhD|1.7438165680473379| 43.15976331360947|\n",
            "|         Master|1.7549226006191951|43.139318885448915|\n",
            "|       Bachelor| 1.757227138643069| 42.51032448377581|\n",
            "+---------------+------------------+------------------+\n",
            "\n"
          ],
          "name": "stdout"
        }
      ]
    },
    {
      "cell_type": "code",
      "metadata": {
        "colab_type": "code",
        "id": "ievrYcKHdTDN",
        "colab": {}
      },
      "source": [
        ""
      ],
      "execution_count": 0,
      "outputs": []
    }
  ]
}